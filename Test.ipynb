{
 "cells": [
  {
   "cell_type": "code",
   "execution_count": 2,
   "id": "097a9fd1-16ef-4036-8f44-191125b6bff0",
   "metadata": {},
   "outputs": [],
   "source": [
    "import numpy as np\n",
    "from deepsy.core.model import Model\n",
    "from deepsy.core.nn import NeuralNetwork\n",
    "from deepsy.core.layer import Layer\n",
    "from deepsy.core.functions.loss_functions import SoftmaxCrossEntropy"
   ]
  },
  {
   "cell_type": "code",
   "execution_count": 2,
   "id": "1be1e4d9-0bf0-4b8e-9906-caf0ce7d151b",
   "metadata": {},
   "outputs": [
    {
     "name": "stdout",
     "output_type": "stream",
     "text": [
      "Model summary:\n",
      "Layer 1: Activation=linear, # Input features=3, # Neurons=5, Weight shape=(5, 3), Bias shape=(5, 1), # Parameters=20\n",
      "Layer 2: Activation=linear, # Input features=5, # Neurons=1, Weight shape=(1, 5), Bias shape=(1, 1), # Parameters=6\n",
      "\n",
      "[[-2.71571254 -3.10101499 -4.64222476]]\n"
     ]
    }
   ],
   "source": [
    "model = Model(NeuralNetwork(layers=[\n",
    "    Layer(3, 5, 'linear'),\n",
    "    Layer(5, 1, 'linear')\n",
    "]))\n",
    "X = np.array([[1, 2, 6], [3, 4, 8], [4, 5, 9]])\n",
    "model.summary()\n",
    "print(model.predict(X))"
   ]
  },
  {
   "cell_type": "code",
   "execution_count": 7,
   "id": "bb4108aa",
   "metadata": {},
   "outputs": [
    {
     "data": {
      "text/plain": [
       "array([[-0.        ,  4.60517019, -0.        , -0.        ]])"
      ]
     },
     "execution_count": 7,
     "metadata": {},
     "output_type": "execute_result"
    }
   ],
   "source": [
    "softmax = SoftmaxCrossEntropy()\n",
    "Y_predicted = [[0.3, 0.01, 0.1, 0.4]]\n",
    "Y_actual = [[0, 1, 0, 0]]\n",
    "softmax.get_loss(Y_predicted, Y_actual)"
   ]
  }
 ],
 "metadata": {
  "kernelspec": {
   "display_name": "Python 3 (ipykernel)",
   "language": "python",
   "name": "python3"
  },
  "language_info": {
   "codemirror_mode": {
    "name": "ipython",
    "version": 3
   },
   "file_extension": ".py",
   "mimetype": "text/x-python",
   "name": "python",
   "nbconvert_exporter": "python",
   "pygments_lexer": "ipython3",
   "version": "3.11.4"
  }
 },
 "nbformat": 4,
 "nbformat_minor": 5
}
