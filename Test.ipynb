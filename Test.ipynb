{
 "cells": [
  {
   "cell_type": "code",
   "execution_count": 1,
   "id": "097a9fd1-16ef-4036-8f44-191125b6bff0",
   "metadata": {},
   "outputs": [],
   "source": [
    "import numpy as np\n",
    "from deepsy.core.model import Model\n",
    "from deepsy.core.nn import NeuralNetwork\n",
    "from deepsy.core.layer import Layer\n",
    "from deepsy.core.functions.activation_functions import *\n",
    "from deepsy.core.functions.loss_functions import *"
   ]
  },
  {
   "cell_type": "code",
   "execution_count": 24,
   "id": "1be1e4d9-0bf0-4b8e-9906-caf0ce7d151b",
   "metadata": {},
   "outputs": [
    {
     "name": "stdout",
     "output_type": "stream",
     "text": [
      "Model summary:\n",
      "Loss function=SoftmaxCrossEntropy\n",
      "Layer 1: Activation function=ReLU, # Input features=5, # Neurons=3, Weight shape=(3, 5), Bias shape=(3, 1), # Parameters=18\n",
      "Layer 2: Activation function=Softmax, # Input features=3, # Neurons=2, Weight shape=(2, 3), Bias shape=(2, 1), # Parameters=8\n",
      "\n",
      "[[5.17062961e-04 2.01442162e-02 7.07518064e-03]\n",
      " [9.99482937e-01 9.79855784e-01 9.92924819e-01]]\n",
      "cost = 1.3041518646539434\n"
     ]
    }
   ],
   "source": [
    "# nx = nr_features\n",
    "# m = training_set_size\n",
    "# (nx x m)\n",
    "X = np.array([[1, 2, 3],\n",
    "              [5, 3, 1],\n",
    "              [6, 2, 9],\n",
    "              [8, 8, 2],\n",
    "              [1, 0, 3]])\n",
    "\n",
    "Y = np.array([[0, 1, 0],\n",
    "              [1, 0, 1]])\n",
    "\n",
    "# layer_1.shape = (layer_1_nr_in_features x m)\n",
    "# layer_n_shape = (layer_n_nr_neurons x m)\n",
    "nn = NeuralNetwork(layers=[\n",
    "    Layer(nr_neurons=3, nr_in_features=5, activation_func=ReLU()),\n",
    "    Layer(nr_neurons=2, nr_in_features=3, activation_func=Sigmoid())\n",
    "])\n",
    "model = Model(nn, loss_func=SoftmaxCrossEntropy())\n",
    "\n",
    "model.summary()\n",
    "prediction, cost = model.validate(X, Y)\n",
    "print(prediction)\n",
    "print('cost =', cost)"
   ]
  }
 ],
 "metadata": {
  "kernelspec": {
   "display_name": "Python 3 (ipykernel)",
   "language": "python",
   "name": "python3"
  },
  "language_info": {
   "codemirror_mode": {
    "name": "ipython",
    "version": 3
   },
   "file_extension": ".py",
   "mimetype": "text/x-python",
   "name": "python",
   "nbconvert_exporter": "python",
   "pygments_lexer": "ipython3",
   "version": "3.11.4"
  }
 },
 "nbformat": 4,
 "nbformat_minor": 5
}
