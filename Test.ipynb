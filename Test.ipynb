{
 "cells": [
  {
   "cell_type": "code",
   "execution_count": 5,
   "id": "097a9fd1-16ef-4036-8f44-191125b6bff0",
   "metadata": {},
   "outputs": [],
   "source": [
    "import numpy as np\n",
    "from deepsy.core.model import Model\n",
    "from deepsy.core.nn import NeuralNetwork\n",
    "from deepsy.core.layer import Layer\n",
    "from deepsy.core.functions.loss_functions import SoftmaxCrossEntropy"
   ]
  },
  {
   "cell_type": "code",
   "execution_count": 6,
   "id": "1be1e4d9-0bf0-4b8e-9906-caf0ce7d151b",
   "metadata": {},
   "outputs": [
    {
     "name": "stdout",
     "output_type": "stream",
     "text": [
      "Model summary:\n",
      "Loss=binary-crossentropy\n",
      "Layer 1: Activation=relu, # Input features=3, # Neurons=5, Weight shape=(5, 3), Bias shape=(5, 1), # Parameters=20\n",
      "Layer 2: Activation=sigmoid, # Input features=5, # Neurons=1, Weight shape=(1, 5), Bias shape=(1, 1), # Parameters=6\n",
      "\n",
      "[[0.14254331 0.12931121 0.02589499 0.33770295]]\n",
      "0.905629127280757\n"
     ]
    }
   ],
   "source": [
    "model = Model(NeuralNetwork(layers=[\n",
    "    Layer(3, 5, 'relu'),\n",
    "    Layer(5, 1, 'sigmoid')\n",
    "], loss='binary-crossentropy'))\n",
    "X = np.array([[1, 2, 6, 4], \n",
    "              [3, 4, 8, 2], \n",
    "              [4, 5, 9, 1]])\n",
    "Y = np.array([[0, 1, 0, 0]])\n",
    "model.summary()\n",
    "prediction, cost = model.train(X, Y)\n",
    "print(prediction)\n",
    "print(cost)"
   ]
  }
 ],
 "metadata": {
  "kernelspec": {
   "display_name": "Python 3 (ipykernel)",
   "language": "python",
   "name": "python3"
  },
  "language_info": {
   "codemirror_mode": {
    "name": "ipython",
    "version": 3
   },
   "file_extension": ".py",
   "mimetype": "text/x-python",
   "name": "python",
   "nbconvert_exporter": "python",
   "pygments_lexer": "ipython3",
   "version": "3.11.4"
  }
 },
 "nbformat": 4,
 "nbformat_minor": 5
}
