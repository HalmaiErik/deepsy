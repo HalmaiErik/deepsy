{
 "cells": [
  {
   "cell_type": "code",
   "execution_count": 2,
   "id": "097a9fd1-16ef-4036-8f44-191125b6bff0",
   "metadata": {},
   "outputs": [],
   "source": [
    "from deepsy.core.model import Model\n",
    "from deepsy.core.nn import NeuralNetwork"
   ]
  },
  {
   "cell_type": "code",
   "execution_count": null,
   "id": "1be1e4d9-0bf0-4b8e-9906-caf0ce7d151b",
   "metadata": {},
   "outputs": [],
   "source": [
    "model = Model(NeuralNetwork([])"
   ]
  }
 ],
 "metadata": {
  "kernelspec": {
   "display_name": "Python 3 (ipykernel)",
   "language": "python",
   "name": "python3"
  },
  "language_info": {
   "codemirror_mode": {
    "name": "ipython",
    "version": 3
   },
   "file_extension": ".py",
   "mimetype": "text/x-python",
   "name": "python",
   "nbconvert_exporter": "python",
   "pygments_lexer": "ipython3",
   "version": "3.11.4"
  }
 },
 "nbformat": 4,
 "nbformat_minor": 5
}
